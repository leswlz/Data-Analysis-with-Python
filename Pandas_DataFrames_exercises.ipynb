{
  "nbformat": 4,
  "nbformat_minor": 0,
  "metadata": {
    "kernelspec": {
      "display_name": "Python 3",
      "language": "python",
      "name": "python3"
    },
    "language_info": {
      "codemirror_mode": {
        "name": "ipython",
        "version": 3
      },
      "file_extension": ".py",
      "mimetype": "text/x-python",
      "name": "python",
      "nbconvert_exporter": "python",
      "pygments_lexer": "ipython3",
      "version": "3.8.1"
    },
    "colab": {
      "name": "4 - Pandas DataFrames exercises.ipynb",
      "provenance": [],
      "collapsed_sections": [],
      "include_colab_link": true
    }
  },
  "cells": [
    {
      "cell_type": "markdown",
      "metadata": {
        "id": "view-in-github",
        "colab_type": "text"
      },
      "source": [
        "<a href=\"https://colab.research.google.com/github/leswlz/Data-Analysis-with-Python/blob/main/Pandas_DataFrames_exercises.ipynb\" target=\"_parent\"><img src=\"https://colab.research.google.com/assets/colab-badge.svg\" alt=\"Open In Colab\"/></a>"
      ]
    },
    {
      "cell_type": "markdown",
      "metadata": {
        "id": "z3E8jN8FFhmH"
      },
      "source": [
        "![rmotr](https://user-images.githubusercontent.com/7065401/52071918-bda15380-2562-11e9-828c-7f95297e4a82.png)\n",
        "<hr style=\"margin-bottom: 40px;\">\n",
        "\n",
        "# Pandas DataFrame exercises\n"
      ]
    },
    {
      "cell_type": "code",
      "metadata": {
        "colab": {
          "base_uri": "https://localhost:8080/"
        },
        "id": "_-1cpTXGFhmL",
        "outputId": "33f37bd0-0670-45de-bb46-945f1178dc63"
      },
      "source": [
        "import numpy as np\n",
        "import pandas as pd\n",
        "import matplotlib.pyplot as plt\n",
        "%matplotlib inline\n",
        "print(pd.__version__)"
      ],
      "execution_count": 8,
      "outputs": [
        {
          "output_type": "stream",
          "text": [
            "1.1.5\n"
          ],
          "name": "stdout"
        }
      ]
    },
    {
      "cell_type": "markdown",
      "metadata": {
        "id": "ZxVIDrNPFhmO"
      },
      "source": [
        "![purple-divider](https://user-images.githubusercontent.com/7065401/52071927-c1cd7100-2562-11e9-908a-dde91ba14e59.png)\n",
        "\n",
        "## DataFrame creation"
      ]
    },
    {
      "cell_type": "code",
      "metadata": {
        "id": "Sm4Eot4PFhmP"
      },
      "source": [
        "pd.DataFrame(data=[None], index=[None], columns=[None]) #creating an empty pandas DataFrame\n"
      ],
      "execution_count": null,
      "outputs": []
    },
    {
      "cell_type": "markdown",
      "metadata": {
        "id": "l59PpI3NFhmR"
      },
      "source": [
        "<img width=400 src=\"https://cdn.dribbble.com/users/4678/screenshots/1986600/avengers.png\"></img>"
      ]
    },
    {
      "cell_type": "code",
      "metadata": {
        "id": "PirQ9WgXFhmU"
      },
      "source": [
        "marvel_data = [\n",
        "    ['Iron Man', 'male', 1963],\n",
        "    ['Captain America', 'male', 1941],\n",
        "    ['Black Widow', 'female', 1964], \n",
        "    ['Thor', 'male', 1963],\n",
        "    ['Hulk', 'male', 1962],\n",
        "    ['Spider-Man', 'male', 1962],\n",
        "    ['Wolverine', 'male', 1974],\n",
        "    ['Storm', 'female', 1975],\n",
        "    ['Hawkeye', 'male', 1964],\n",
        "    ['Daredevil', 'male', 1964],\n",
        "    ['Doctor Strange', 'male', 1963],\n",
        "    ['Wasp', 'female', 1963],\n",
        "    ['Vision', 'male', 1968]        \n",
        "]"
      ],
      "execution_count": 32,
      "outputs": []
    },
    {
      "cell_type": "code",
      "metadata": {
        "cell_type": "solution",
        "id": "sr1jsPPIFhmV"
      },
      "source": [
        "marvel_df = pd.DataFrame(data=marvel_data) #creating a marvel_df pandas DataFrame\n",
        "\n",
        "marvel_df"
      ],
      "execution_count": null,
      "outputs": []
    },
    {
      "cell_type": "code",
      "metadata": {
        "cell_type": "solution",
        "id": "_ez-bPCWFhmX"
      },
      "source": [
        "column_names = ['name', 'sex', 'first_appearance']\n",
        "\n",
        "marvel_df.columns = column_names #adding column names to the marvel_df\n",
        "marvel_df"
      ],
      "execution_count": null,
      "outputs": []
    },
    {
      "cell_type": "code",
      "metadata": {
        "cell_type": "solution",
        "id": "TaCl9arVFhmZ"
      },
      "source": [
        "marvel_df.index = marvel_df['name'] #adding index names to the marvel_df\n",
        "marvel_df"
      ],
      "execution_count": null,
      "outputs": []
    },
    {
      "cell_type": "markdown",
      "metadata": {
        "id": "mnuJUdggFhmZ"
      },
      "source": [
        "![green-divider](https://user-images.githubusercontent.com/7065401/52071924-c003ad80-2562-11e9-8297-1c6595f8a7ff.png)"
      ]
    },
    {
      "cell_type": "code",
      "metadata": {
        "id": "g9qon9fEFhma"
      },
      "source": [
        "marvel_df = marvel_df.drop(columns=['name']) #dropping the name column\n",
        "marvel_df\n"
      ],
      "execution_count": null,
      "outputs": []
    },
    {
      "cell_type": "markdown",
      "metadata": {
        "id": "BHP1q4vcFhmb"
      },
      "source": [
        "![green-divider](https://user-images.githubusercontent.com/7065401/52071924-c003ad80-2562-11e9-8297-1c6595f8a7ff.png)\n"
      ]
    },
    {
      "cell_type": "code",
      "metadata": {
        "cell_type": "solution",
        "id": "oUu7J4htFhmc"
      },
      "source": [
        "marvel_df = marvel_df.drop(['Wolverine', 'Storm'], axis=0) #dropping 'Wolverine' and 'Storm' rows \n",
        "marvel_df"
      ],
      "execution_count": null,
      "outputs": []
    },
    {
      "cell_type": "markdown",
      "metadata": {
        "id": "ma2HCvv3Fhmd"
      },
      "source": [
        "![purple-divider](https://user-images.githubusercontent.com/7065401/52071927-c1cd7100-2562-11e9-908a-dde91ba14e59.png)\n",
        "\n",
        "## DataFrame selection, slicing and indexation"
      ]
    },
    {
      "cell_type": "code",
      "metadata": {
        "cell_type": "solution",
        "id": "NrtxA1trFhmf"
      },
      "source": [
        "marvel_df.iloc[:5,] #showing the first 5 elements on 'marvel_df'"
      ],
      "execution_count": null,
      "outputs": []
    },
    {
      "cell_type": "markdown",
      "metadata": {
        "id": "WUfbwf4aFhmf"
      },
      "source": [
        "![green-divider](https://user-images.githubusercontent.com/7065401/52071924-c003ad80-2562-11e9-8297-1c6595f8a7ff.png)\n"
      ]
    },
    {
      "cell_type": "code",
      "metadata": {
        "cell_type": "solution",
        "id": "okOWyEx4Fhmg"
      },
      "source": [
        "marvel_df.iloc[-5:,] #showing the last 5 elements on 'marvel_df'"
      ],
      "execution_count": null,
      "outputs": []
    },
    {
      "cell_type": "markdown",
      "metadata": {
        "id": "6hTM90a1Fhmh"
      },
      "source": [
        "![green-divider](https://user-images.githubusercontent.com/7065401/52071924-c003ad80-2562-11e9-8297-1c6595f8a7ff.png)"
      ]
    },
    {
      "cell_type": "code",
      "metadata": {
        "cell_type": "solution",
        "id": "4RAmYCp1Fhmi"
      },
      "source": [
        "marvel_df.iloc[:5,]['sex'].to_frame() #showing just the sex of the first 5 elements on 'marvel_df'"
      ],
      "execution_count": null,
      "outputs": []
    },
    {
      "cell_type": "markdown",
      "metadata": {
        "id": "E01pEMeGFhmi"
      },
      "source": [
        "![green-divider](https://user-images.githubusercontent.com/7065401/52071924-c003ad80-2562-11e9-8297-1c6595f8a7ff.png)"
      ]
    },
    {
      "cell_type": "code",
      "metadata": {
        "cell_type": "solution",
        "id": "-Pvbk7SqFhmj"
      },
      "source": [
        "marvel_df.iloc[1:-1,].first_appearance.to_frame() #showing the first_appearance of all middle elements on 'marvel_df'"
      ],
      "execution_count": null,
      "outputs": []
    },
    {
      "cell_type": "markdown",
      "metadata": {
        "id": "2iIEDOZhFhmk"
      },
      "source": [
        "![green-divider](https://user-images.githubusercontent.com/7065401/52071924-c003ad80-2562-11e9-8297-1c6595f8a7ff.png)\n"
      ]
    },
    {
      "cell_type": "code",
      "metadata": {
        "cell_type": "solution",
        "id": "py5mhBdFFhml"
      },
      "source": [
        "marvel_df.iloc[[0, -1],] #showing the first and last elements on 'marvel_df'"
      ],
      "execution_count": null,
      "outputs": []
    },
    {
      "cell_type": "markdown",
      "metadata": {
        "id": "C10zDCi7Fhml"
      },
      "source": [
        "![purple-divider](https://user-images.githubusercontent.com/7065401/52071927-c1cd7100-2562-11e9-908a-dde91ba14e59.png)\n",
        "\n",
        "## DataFrame manipulation and operations"
      ]
    },
    {
      "cell_type": "code",
      "metadata": {
        "cell_type": "solution",
        "id": "TMa5w3XoFhmn"
      },
      "source": [
        "marvel_df.loc['Vision', 'first_appearance'] = 1964 #modifying the `first_appearance` of 'Vision' to year 1964\n",
        "\n",
        "marvel_df"
      ],
      "execution_count": null,
      "outputs": []
    },
    {
      "cell_type": "markdown",
      "metadata": {
        "id": "tXQ2HHC0Fhmn"
      },
      "source": [
        "![green-divider](https://user-images.githubusercontent.com/7065401/52071924-c003ad80-2562-11e9-8297-1c6595f8a7ff.png)\n"
      ]
    },
    {
      "cell_type": "code",
      "metadata": {
        "cell_type": "solution",
        "id": "tQUiWQK5Fhmo"
      },
      "source": [
        "marvel_df['years_since'] = 2021 - marvel_df['first_appearance'] #adding a new column to `marvel_df` called 'years_since' with the years since 'first_appearance'\n",
        "\n",
        "marvel_df"
      ],
      "execution_count": null,
      "outputs": []
    },
    {
      "cell_type": "markdown",
      "metadata": {
        "id": "tetNB644Fhmp"
      },
      "source": [
        "![purple-divider](https://user-images.githubusercontent.com/7065401/52071927-c1cd7100-2562-11e9-908a-dde91ba14e59.png)\n",
        "\n",
        "## DataFrame boolean arrays (also called masks)"
      ]
    },
    {
      "cell_type": "code",
      "metadata": {
        "cell_type": "solution",
        "id": "GNQ1m4r7Fhmq"
      },
      "source": [
        "mask_female = marvel_df['sex'] == 'female' #making a mask that shows the female characters\n",
        "\n",
        "mask_female"
      ],
      "execution_count": null,
      "outputs": []
    },
    {
      "cell_type": "markdown",
      "metadata": {
        "id": "WwBTFfszFhmr"
      },
      "source": [
        "![green-divider](https://user-images.githubusercontent.com/7065401/52071924-c003ad80-2562-11e9-8297-1c6595f8a7ff.png)\n"
      ]
    },
    {
      "cell_type": "code",
      "metadata": {
        "cell_type": "solution",
        "id": "jfDxdEkMFhmt"
      },
      "source": [
        "mask_male = marvel_df['sex'] == 'male' #getting the male characters\n",
        "\n",
        "mask_male"
      ],
      "execution_count": null,
      "outputs": []
    },
    {
      "cell_type": "code",
      "metadata": {
        "cell_type": "solution",
        "id": "_dPWpK3OFhmv"
      },
      "source": [
        "mask_more_than_1970 = marvel_df['first_appearance'] > 1970 #getting the characters with 'first_appearance' after 1970\n",
        "\n",
        "mask_more_than_1970"
      ],
      "execution_count": null,
      "outputs": []
    },
    {
      "cell_type": "markdown",
      "metadata": {
        "id": "pgQpRM0JFhmv"
      },
      "source": [
        "![green-divider](https://user-images.githubusercontent.com/7065401/52071924-c003ad80-2562-11e9-8297-1c6595f8a7ff.png)"
      ]
    },
    {
      "cell_type": "code",
      "metadata": {
        "cell_type": "solution",
        "scrolled": true,
        "id": "0_stJAPhFhmw"
      },
      "source": [
        "mask_more_than_1970_female = (marvel_df['sex'] == 'female') & (marvel_df['first_appearance'] > 1970) #getting the female characters with 'first_appearance' after 1970\n",
        "\n",
        "mask_more_than_1970_female"
      ],
      "execution_count": null,
      "outputs": []
    },
    {
      "cell_type": "markdown",
      "metadata": {
        "id": "h9L_BAyUFhmx"
      },
      "source": [
        "![purple-divider](https://user-images.githubusercontent.com/7065401/52071927-c1cd7100-2562-11e9-908a-dde91ba14e59.png)\n",
        "\n",
        "## DataFrame summary statistics"
      ]
    },
    {
      "cell_type": "code",
      "metadata": {
        "cell_type": "solution",
        "id": "kySUmRNsFhmy"
      },
      "source": [
        "marvel_df.describe() #showing basic statistics of 'marvel_df'"
      ],
      "execution_count": null,
      "outputs": []
    },
    {
      "cell_type": "markdown",
      "metadata": {
        "id": "HuX83N95Fhmz"
      },
      "source": [
        "![green-divider](https://user-images.githubusercontent.com/7065401/52071924-c003ad80-2562-11e9-8297-1c6595f8a7ff.png)"
      ]
    },
    {
      "cell_type": "code",
      "metadata": {
        "cell_type": "solution",
        "id": "ch54JLvVFhm0"
      },
      "source": [
        "np.mean(marvel_df.first_appearance) #showing the mean value of 'first_appearance'"
      ],
      "execution_count": null,
      "outputs": []
    },
    {
      "cell_type": "markdown",
      "metadata": {
        "id": "o_1SjAOTFhm0"
      },
      "source": [
        "![green-divider](https://user-images.githubusercontent.com/7065401/52071924-c003ad80-2562-11e9-8297-1c6595f8a7ff.png)\n"
      ]
    },
    {
      "cell_type": "code",
      "metadata": {
        "cell_type": "solution",
        "id": "I9255cNGFhm1"
      },
      "source": [
        "np.min(marvel_df.first_appearance) #showing the min value of 'first_appearance'"
      ],
      "execution_count": null,
      "outputs": []
    },
    {
      "cell_type": "markdown",
      "metadata": {
        "id": "n-owxzYrFhm1"
      },
      "source": [
        "![green-divider](https://user-images.githubusercontent.com/7065401/52071924-c003ad80-2562-11e9-8297-1c6595f8a7ff.png)"
      ]
    },
    {
      "cell_type": "code",
      "metadata": {
        "cell_type": "solution",
        "id": "PQGoqO9bFhm2"
      },
      "source": [
        "mask = marvel_df['first_appearance'] == marvel_df.first_appearance.min() #getting the characters with the min value of 'first_appearance'\n",
        "marvel_df[mask]"
      ],
      "execution_count": null,
      "outputs": []
    },
    {
      "cell_type": "markdown",
      "metadata": {
        "id": "Qbvl57rzFhm3"
      },
      "source": [
        "![purple-divider](https://user-images.githubusercontent.com/7065401/52071927-c1cd7100-2562-11e9-908a-dde91ba14e59.png)\n",
        "\n",
        "## DataFrame basic plottings"
      ]
    },
    {
      "cell_type": "code",
      "metadata": {
        "cell_type": "solution",
        "id": "xSHs0Ht6Fhm4"
      },
      "source": [
        "marvel_df = marvel_df.reset_index() #resetting index names of 'marvel_df'\n",
        "\n",
        "marvel_df"
      ],
      "execution_count": null,
      "outputs": []
    },
    {
      "cell_type": "markdown",
      "metadata": {
        "id": "v0coyOJWFhm5"
      },
      "source": [
        "![green-divider](https://user-images.githubusercontent.com/7065401/52071924-c003ad80-2562-11e9-8297-1c6595f8a7ff.png)\n"
      ]
    },
    {
      "cell_type": "code",
      "metadata": {
        "cell_type": "solution",
        "id": "EkOVWurNFhm6"
      },
      "source": [
        "plt.plot(marvel_df.index, marvel_df.first_appearance) #plotting the values of 'first_appearance'"
      ],
      "execution_count": null,
      "outputs": []
    },
    {
      "cell_type": "markdown",
      "metadata": {
        "id": "Q0WzQP0QFhm6"
      },
      "source": [
        "![green-divider](https://user-images.githubusercontent.com/7065401/52071924-c003ad80-2562-11e9-8297-1c6595f8a7ff.png)\n"
      ]
    },
    {
      "cell_type": "code",
      "metadata": {
        "cell_type": "solution",
        "id": "Yh0d7nSjFhm7"
      },
      "source": [
        "plt.hist(marvel_df.first_appearance) #plotting a histogram (plot.hist) with values of 'first_appearance'"
      ],
      "execution_count": null,
      "outputs": []
    },
    {
      "cell_type": "markdown",
      "metadata": {
        "id": "itASSLGFFhm8"
      },
      "source": [
        "![purple-divider](https://user-images.githubusercontent.com/7065401/52071927-c1cd7100-2562-11e9-908a-dde91ba14e59.png)\n"
      ]
    }
  ]
}
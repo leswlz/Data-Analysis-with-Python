{
  "nbformat": 4,
  "nbformat_minor": 0,
  "metadata": {
    "colab": {
      "name": "Untitled1.ipynb",
      "provenance": [],
      "collapsed_sections": [],
      "authorship_tag": "ABX9TyP5In/WZYw2QkZa2GEPQeOH",
      "include_colab_link": true
    },
    "kernelspec": {
      "name": "python3",
      "display_name": "Python 3"
    },
    "language_info": {
      "name": "python"
    }
  },
  "cells": [
    {
      "cell_type": "markdown",
      "metadata": {
        "id": "view-in-github",
        "colab_type": "text"
      },
      "source": [
        "<a href=\"https://colab.research.google.com/github/leswlz/Data-Analysis-with-Python/blob/main/Mean-Variance-Standard%20Deviation%20Calculator.ipynb\" target=\"_parent\"><img src=\"https://colab.research.google.com/assets/colab-badge.svg\" alt=\"Open In Colab\"/></a>"
      ]
    },
    {
      "cell_type": "markdown",
      "metadata": {
        "id": "3UUuZUbMn5Ub"
      },
      "source": [
        "### Assignment\n",
        "\n",
        "Create a function named `calculate()` in `mean_var_std.py` that uses Numpy to output the mean, variance, standard deviation, max, min, and sum of the rows, columns, and elements in a 3 x 3 matrix. \n",
        "\n",
        "The input of the function should be a list containing 9 digits. The function should convert the list into a 3 x 3 Numpy array, and then return a dictionary containing the mean, variance, standard deviation, max, min, and sum along both axes and for the flattened matrix. \n",
        "\n",
        "The returned dictionary should follow this format:\n",
        "```py\n",
        "{\n",
        "  'mean': [axis1, axis2, flattened],\n",
        "  'variance': [axis1, axis2, flattened],\n",
        "  'standard deviation': [axis1, axis2, flattened],\n",
        "  'max': [axis1, axis2, flattened],\n",
        "  'min': [axis1, axis2, flattened],\n",
        "  'sum': [axis1, axis2, flattened]\n",
        "}\n",
        "```\n",
        "\n",
        "If a list containing less than 9 elements is passed into the function, it should raise a `ValueError` exception with the message: \"List must contain nine numbers.\" The values in the returned dictionary should be lists and not Numpy arrays.\n",
        "\n",
        "For example, `calculate([0,1,2,3,4,5,6,7,8])` should return:\n",
        "```py\n",
        "{\n",
        "  'mean': [[3.0, 4.0, 5.0], [1.0, 4.0, 7.0], 4.0], \n",
        "  'variance': [[6.0, 6.0, 6.0], [0.6666666666666666, 0.6666666666666666, 0.6666666666666666], 6.666666666666667], \n",
        "  'standard deviation': [[2.449489742783178, 2.449489742783178, 2.449489742783178], [0.816496580927726, 0.816496580927726, 0.816496580927726], 2.581988897471611],\n",
        "  'max': [[6, 7, 8], [2, 5, 8], 8],\n",
        "  'min': [[0, 1, 2], [0, 3, 6], 0],\n",
        "  'sum': [[9, 12, 15], [3, 12, 21], 36]\n",
        "}\n"
      ]
    },
    {
      "cell_type": "code",
      "metadata": {
        "id": "eb5O7w9XmWO6"
      },
      "source": [
        "import numpy as np\n",
        "\n",
        "def calculate(list):\n",
        "    array = np.array(list)\n",
        "\n",
        "    try:\n",
        "        matrix = array.reshape((3,3))\n",
        "    except ValueError:\n",
        "        raise ValueError(\"List must contain nine numbers.\")\n",
        "    else:\n",
        "        mean = [np.mean(matrix, axis = 0).tolist(), np.mean(matrix, axis = 1).tolist(), np.mean(array).tolist()]\n",
        "        variance = [np.var(matrix, axis = 0).tolist(), np.var(matrix, axis = 1).tolist(), np.var(array).tolist()]\n",
        "        standard_deviation = [(np.array(v) ** 0.5).tolist() for v in variance]\n",
        "        max = [np.max(matrix, axis = 0).tolist(), np.max(matrix, axis = 1).tolist(), np.max(array).tolist()]\n",
        "        min = [np.min(matrix, axis = 0).tolist(), np.min(matrix, axis = 1).tolist(), np.min(array).tolist()]\n",
        "        sum = [np.sum(matrix, axis = 0).tolist(), np.sum(matrix, axis = 1).tolist(), np.sum(array).tolist()]\n",
        "    \n",
        "    calculations = {\n",
        "        \"mean\": mean,\n",
        "        \"variance\": variance,\n",
        "        \"standard deviation\": standard_deviation,\n",
        "        \"max\": max,\n",
        "        \"min\": min,\n",
        "        \"sum\": sum\n",
        "    }\n",
        "\n",
        "    return calculations"
      ],
      "execution_count": 41,
      "outputs": []
    },
    {
      "cell_type": "code",
      "metadata": {
        "colab": {
          "base_uri": "https://localhost:8080/"
        },
        "id": "4u5y91AgmkFn",
        "outputId": "a1e6e2b2-e240-4594-96ae-11e584e2242e"
      },
      "source": [
        "calculate([0,1,2,3,4,5,6,7,8])"
      ],
      "execution_count": 40,
      "outputs": [
        {
          "output_type": "execute_result",
          "data": {
            "text/plain": [
              "{'max': [[6, 7, 8], [2, 5, 8], 8],\n",
              " 'mean': [[3.0, 4.0, 5.0], [1.0, 4.0, 7.0], 4.0],\n",
              " 'min': [[0, 1, 2], [0, 3, 6], 0],\n",
              " 'standard deviation': [[2.449489742783178,\n",
              "   2.449489742783178,\n",
              "   2.449489742783178],\n",
              "  [0.816496580927726, 0.816496580927726, 0.816496580927726],\n",
              "  2.581988897471611],\n",
              " 'sum': [[9, 12, 15], [3, 12, 21], 36],\n",
              " 'variance': [[6.0, 6.0, 6.0],\n",
              "  [0.6666666666666666, 0.6666666666666666, 0.6666666666666666],\n",
              "  6.666666666666667]}"
            ]
          },
          "metadata": {
            "tags": []
          },
          "execution_count": 40
        }
      ]
    }
  ]
}